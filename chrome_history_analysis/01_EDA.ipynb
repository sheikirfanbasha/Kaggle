{
 "cells": [
  {
   "cell_type": "code",
   "execution_count": 1,
   "metadata": {},
   "outputs": [
    {
     "name": "stdout",
     "output_type": "stream",
     "text": [
      "/Users/irfan/anaconda3/envs/py3.6/bin/python\n"
     ]
    }
   ],
   "source": [
    "# check if we are using right kernal\n",
    "import sys;\n",
    "print(sys.executable)"
   ]
  },
  {
   "cell_type": "code",
   "execution_count": 2,
   "metadata": {},
   "outputs": [
    {
     "name": "stdout",
     "output_type": "stream",
     "text": [
      "\u001b[31mchrome_history.csv\u001b[m\u001b[m\r\n"
     ]
    }
   ],
   "source": [
    "# import the necessary packages \n",
    "import pandas as pd;\n",
    "import numpy as np;\n",
    "from matplotlib import pyplot as plt\n",
    "import seaborn as sns;\n",
    "\n",
    "! ls \"input/\""
   ]
  },
  {
   "cell_type": "code",
   "execution_count": 3,
   "metadata": {},
   "outputs": [],
   "source": [
    "df = pd.read_csv('input/chrome_history.csv')"
   ]
  },
  {
   "cell_type": "code",
   "execution_count": 4,
   "metadata": {},
   "outputs": [
    {
     "data": {
      "text/plain": [
       "Index(['id', 'lastVisitTimeLocal', 'lastVisitTimeUTC', 'title', 'url',\n",
       "       'typedCount', 'visitCount', '[]\"_id\"', '<ROOT>_id'],\n",
       "      dtype='object')"
      ]
     },
     "execution_count": 4,
     "metadata": {},
     "output_type": "execute_result"
    }
   ],
   "source": [
    "df.columns"
   ]
  },
  {
   "cell_type": "code",
   "execution_count": 5,
   "metadata": {},
   "outputs": [
    {
     "data": {
      "text/plain": [
       "0      19/09/2018, 11:54:05\n",
       "1      19/09/2018, 11:53:45\n",
       "2      19/09/2018, 11:53:38\n",
       "3      19/09/2018, 11:53:28\n",
       "4      19/09/2018, 11:53:12\n",
       "5      19/09/2018, 11:49:12\n",
       "6      19/09/2018, 11:48:55\n",
       "7      19/09/2018, 11:48:32\n",
       "8      19/09/2018, 11:48:30\n",
       "9      19/09/2018, 11:47:51\n",
       "10     19/09/2018, 11:44:21\n",
       "11     19/09/2018, 11:44:19\n",
       "12     19/09/2018, 11:44:09\n",
       "13     19/09/2018, 11:40:24\n",
       "14     19/09/2018, 11:40:11\n",
       "15     19/09/2018, 11:38:49\n",
       "16     19/09/2018, 11:36:49\n",
       "17     19/09/2018, 11:29:34\n",
       "18     19/09/2018, 11:29:34\n",
       "19     19/09/2018, 11:29:09\n",
       "20     19/09/2018, 11:29:07\n",
       "21     19/09/2018, 11:26:40\n",
       "22     19/09/2018, 11:26:37\n",
       "23     19/09/2018, 11:26:09\n",
       "24     19/09/2018, 11:25:46\n",
       "25     19/09/2018, 11:25:43\n",
       "26     19/09/2018, 11:25:37\n",
       "27     19/09/2018, 11:25:16\n",
       "28     19/09/2018, 11:22:46\n",
       "29     19/09/2018, 11:22:40\n",
       "               ...         \n",
       "498    17/09/2018, 12:12:00\n",
       "499    17/09/2018, 12:11:54\n",
       "500    17/09/2018, 12:11:47\n",
       "501    17/09/2018, 12:11:40\n",
       "502    17/09/2018, 12:09:17\n",
       "503    17/09/2018, 12:09:07\n",
       "504    17/09/2018, 12:08:06\n",
       "505    17/09/2018, 12:07:56\n",
       "506    17/09/2018, 12:07:51\n",
       "507    17/09/2018, 12:07:44\n",
       "508    17/09/2018, 12:07:44\n",
       "509    16/09/2018, 23:46:31\n",
       "510    16/09/2018, 19:04:34\n",
       "511    11/09/2018, 13:33:20\n",
       "512    08/09/2018, 20:50:58\n",
       "513    06/09/2018, 16:25:29\n",
       "514    06/09/2018, 09:15:01\n",
       "515    06/09/2018, 09:15:01\n",
       "516    02/09/2018, 20:57:49\n",
       "517    02/09/2018, 20:55:29\n",
       "518    25/08/2018, 16:24:34\n",
       "519    21/08/2018, 14:57:06\n",
       "520    21/08/2018, 14:56:27\n",
       "521    18/08/2018, 06:44:03\n",
       "522    12/08/2018, 21:00:51\n",
       "523    02/08/2018, 23:36:42\n",
       "524    02/08/2018, 20:16:22\n",
       "525    31/07/2018, 16:52:05\n",
       "526    15/07/2018, 12:47:45\n",
       "527    14/07/2018, 09:21:35\n",
       "Name: lastVisitTimeLocal, Length: 528, dtype: object"
      ]
     },
     "execution_count": 5,
     "metadata": {},
     "output_type": "execute_result"
    }
   ],
   "source": [
    "df['lastVisitTimeLocal']"
   ]
  },
  {
   "cell_type": "code",
   "execution_count": 6,
   "metadata": {},
   "outputs": [],
   "source": [
    "df['datetime'] = pd.to_datetime(df['lastVisitTimeLocal'], format=\"%d/%m/%Y, %H:%M:%S\")"
   ]
  },
  {
   "cell_type": "code",
   "execution_count": 7,
   "metadata": {},
   "outputs": [],
   "source": [
    "time_of_day_stats = df.groupby(df['datetime'].dt.hour)['visitCount'].sum()"
   ]
  },
  {
   "cell_type": "code",
   "execution_count": 8,
   "metadata": {},
   "outputs": [
    {
     "data": {
      "text/plain": [
       "datetime\n",
       "0      21\n",
       "1       5\n",
       "6      17\n",
       "9      11\n",
       "10    212\n",
       "11    181\n",
       "12    155\n",
       "13     61\n",
       "14     18\n",
       "15    199\n",
       "16    121\n",
       "17     82\n",
       "18      9\n",
       "19     28\n",
       "20     89\n",
       "21      8\n",
       "22      4\n",
       "23     46\n",
       "Name: visitCount, dtype: int64"
      ]
     },
     "execution_count": 8,
     "metadata": {},
     "output_type": "execute_result"
    }
   ],
   "source": [
    "time_of_day_stats"
   ]
  },
  {
   "cell_type": "code",
   "execution_count": 9,
   "metadata": {},
   "outputs": [
    {
     "data": {
      "text/plain": [
       "[Text(0,0.5,'visitCount'), Text(0.5,0,'hour of day')]"
      ]
     },
     "execution_count": 9,
     "metadata": {},
     "output_type": "execute_result"
    },
    {
     "data": {
      "image/png": "[encoded data removed]",
      "text/plain": [
       "<Figure size 432x288 with 1 Axes>"
      ]
     },
     "metadata": {
      "needs_background": "light"
     },
     "output_type": "display_data"
    }
   ],
   "source": [
    "ax = time_of_day_stats.plot(kind='bar', title='Time of Day',logy=True )\n",
    "ax.set(xlabel='hour of day', ylabel='visitCount')"
   ]
  },
  {
   "cell_type": "code",
   "execution_count": 19,
   "metadata": {},
   "outputs": [
    {
     "data": {
      "text/plain": [
       "<matplotlib.axes._subplots.AxesSubplot at 0x1a1cab02b0>"
      ]
     },
     "execution_count": 19,
     "metadata": {},
     "output_type": "execute_result"
    },
    {
     "data": {
      "image/png": "[encoded data removed]",
      "text/plain": [
       "<Figure size 432x288 with 1 Axes>"
      ]
     },
     "metadata": {
      "needs_background": "light"
     },
     "output_type": "display_data"
    }
   ],
   "source": [
    "# The above graph using seaborn plot\n",
    "sns.barplot(x=time_of_day_stats.index, y = time_of_day_stats.values)"
   ]
  },
  {
   "cell_type": "code",
   "execution_count": 10,
   "metadata": {},
   "outputs": [],
   "source": [
    "datetime_col = df['datetime']"
   ]
  },
  {
   "cell_type": "code",
   "execution_count": 11,
   "metadata": {},
   "outputs": [
    {
     "data": {
      "text/plain": [
       "<matplotlib.axes._subplots.AxesSubplot at 0x1a11c014a8>"
      ]
     },
     "execution_count": 11,
     "metadata": {},
     "output_type": "execute_result"
    },
    {
     "data": {
      "image/png": "[encoded data removed]",
      "text/plain": [
       "<Figure size 432x288 with 1 Axes>"
      ]
     },
     "metadata": {
      "needs_background": "light"
     },
     "output_type": "display_data"
    }
   ],
   "source": [
    "df.groupby(datetime_col.dt.dayofweek)['visitCount'].sum().plot(kind='bar')"
   ]
  },
  {
   "cell_type": "code",
   "execution_count": 12,
   "metadata": {},
   "outputs": [
    {
     "data": {
      "text/plain": [
       "<matplotlib.axes._subplots.AxesSubplot at 0x1a11cf2630>"
      ]
     },
     "execution_count": 12,
     "metadata": {},
     "output_type": "execute_result"
    },
    {
     "data": {
      "image/png": "[encoded data removed]",
      "text/plain": [
       "<Figure size 432x288 with 1 Axes>"
      ]
     },
     "metadata": {
      "needs_background": "light"
     },
     "output_type": "display_data"
    }
   ],
   "source": [
    "df.groupby(datetime_col.dt.day)['visitCount'].sum().plot(kind='bar')"
   ]
  },
  {
   "cell_type": "code",
   "execution_count": 13,
   "metadata": {},
   "outputs": [
    {
     "data": {
      "text/plain": [
       "<matplotlib.axes._subplots.AxesSubplot at 0x1a1c587278>"
      ]
     },
     "execution_count": 13,
     "metadata": {},
     "output_type": "execute_result"
    },
    {
     "data": {
      "image/png": "[encoded data removed]",
      "text/plain": [
       "<Figure size 432x288 with 1 Axes>"
      ]
     },
     "metadata": {
      "needs_background": "light"
     },
     "output_type": "display_data"
    }
   ],
   "source": [
    "df.groupby(datetime_col.dt.month)['visitCount'].sum().plot(kind='bar')"
   ]
  },
  {
   "cell_type": "code",
   "execution_count": 14,
   "metadata": {
    "collapsed": true
   },
   "outputs": [
    {
     "data": {
      "text/html": [
       "<div>\n",
       "<style scoped>\n",
       "    .dataframe tbody tr th:only-of-type {\n",
       "        vertical-align: middle;\n",
       "    }\n",
       "\n",
       "    .dataframe tbody tr th {\n",
       "        vertical-align: top;\n",
       "    }\n",
       "\n",
       "    .dataframe thead th {\n",
       "        text-align: right;\n",
       "    }\n",
       "</style>\n",
       "<table border=\"1\" class=\"dataframe\">\n",
       "  <thead>\n",
       "    <tr style=\"text-align: right;\">\n",
       "      <th></th>\n",
       "      <th>url</th>\n",
       "      <th>visitCount</th>\n",
       "    </tr>\n",
       "  </thead>\n",
       "  <tbody>\n",
       "    <tr>\n",
       "      <th>234</th>\n",
       "      <td>https://docs.google.com/spreadsheets/d/1ChM319...</td>\n",
       "      <td>107</td>\n",
       "    </tr>\n",
       "    <tr>\n",
       "      <th>61</th>\n",
       "      <td>https://news.google.com/?hl=en-IN&amp;gl=IN&amp;ceid=I...</td>\n",
       "      <td>106</td>\n",
       "    </tr>\n",
       "    <tr>\n",
       "      <th>516</th>\n",
       "      <td>https://in.bookmyshow.com/chennai</td>\n",
       "      <td>58</td>\n",
       "    </tr>\n",
       "    <tr>\n",
       "      <th>10</th>\n",
       "      <td>https://mail.google.com/mail/u/1/#inbox</td>\n",
       "      <td>31</td>\n",
       "    </tr>\n",
       "    <tr>\n",
       "      <th>513</th>\n",
       "      <td>https://netbanking.hdfcbank.com/netbanking/</td>\n",
       "      <td>31</td>\n",
       "    </tr>\n",
       "    <tr>\n",
       "      <th>510</th>\n",
       "      <td>http://apsrtconline.in/mobile/</td>\n",
       "      <td>20</td>\n",
       "    </tr>\n",
       "    <tr>\n",
       "      <th>517</th>\n",
       "      <td>https://in.bookmyshow.com/</td>\n",
       "      <td>19</td>\n",
       "    </tr>\n",
       "    <tr>\n",
       "      <th>521</th>\n",
       "      <td>http://www.apsrtconline.in/oprs-web/avail/serv...</td>\n",
       "      <td>17</td>\n",
       "    </tr>\n",
       "    <tr>\n",
       "      <th>270</th>\n",
       "      <td>https://mail.google.com/mail/u/2/#inbox</td>\n",
       "      <td>17</td>\n",
       "    </tr>\n",
       "    <tr>\n",
       "      <th>374</th>\n",
       "      <td>https://www.astrology.com/horoscope/daily/canc...</td>\n",
       "      <td>15</td>\n",
       "    </tr>\n",
       "    <tr>\n",
       "      <th>349</th>\n",
       "      <td>https://github.com/leapmotion/LeapMotionCoreAs...</td>\n",
       "      <td>15</td>\n",
       "    </tr>\n",
       "    <tr>\n",
       "      <th>525</th>\n",
       "      <td>https://retail.onlinesbi.com/retail/login.htm</td>\n",
       "      <td>13</td>\n",
       "    </tr>\n",
       "    <tr>\n",
       "      <th>216</th>\n",
       "      <td>https://www.kaggle.com/sheikirfanbasha/house-p...</td>\n",
       "      <td>11</td>\n",
       "    </tr>\n",
       "    <tr>\n",
       "      <th>351</th>\n",
       "      <td>https://github.com/leapmotion/LeapMotionCoreAs...</td>\n",
       "      <td>10</td>\n",
       "    </tr>\n",
       "    <tr>\n",
       "      <th>512</th>\n",
       "      <td>https://www.google.com/</td>\n",
       "      <td>10</td>\n",
       "    </tr>\n",
       "    <tr>\n",
       "      <th>509</th>\n",
       "      <td>https://corridor.pramati.com/</td>\n",
       "      <td>8</td>\n",
       "    </tr>\n",
       "    <tr>\n",
       "      <th>11</th>\n",
       "      <td>https://mail.google.com/mail/u/1/#inbox/FMfcgx...</td>\n",
       "      <td>7</td>\n",
       "    </tr>\n",
       "    <tr>\n",
       "      <th>26</th>\n",
       "      <td>https://www.kaggle.com/sheikirfanbasha</td>\n",
       "      <td>6</td>\n",
       "    </tr>\n",
       "    <tr>\n",
       "      <th>293</th>\n",
       "      <td>https://accounts.google.com/signin/oauth?clien...</td>\n",
       "      <td>6</td>\n",
       "    </tr>\n",
       "    <tr>\n",
       "      <th>514</th>\n",
       "      <td>https://www.incometaxindiaefiling.gov.in/</td>\n",
       "      <td>6</td>\n",
       "    </tr>\n",
       "  </tbody>\n",
       "</table>\n",
       "</div>"
      ],
      "text/plain": [
       "                                                   url  visitCount\n",
       "234  https://docs.google.com/spreadsheets/d/1ChM319...         107\n",
       "61   https://news.google.com/?hl=en-IN&gl=IN&ceid=I...         106\n",
       "516                  https://in.bookmyshow.com/chennai          58\n",
       "10             https://mail.google.com/mail/u/1/#inbox          31\n",
       "513        https://netbanking.hdfcbank.com/netbanking/          31\n",
       "510                     http://apsrtconline.in/mobile/          20\n",
       "517                         https://in.bookmyshow.com/          19\n",
       "521  http://www.apsrtconline.in/oprs-web/avail/serv...          17\n",
       "270            https://mail.google.com/mail/u/2/#inbox          17\n",
       "374  https://www.astrology.com/horoscope/daily/canc...          15\n",
       "349  https://github.com/leapmotion/LeapMotionCoreAs...          15\n",
       "525      https://retail.onlinesbi.com/retail/login.htm          13\n",
       "216  https://www.kaggle.com/sheikirfanbasha/house-p...          11\n",
       "351  https://github.com/leapmotion/LeapMotionCoreAs...          10\n",
       "512                            https://www.google.com/          10\n",
       "509                      https://corridor.pramati.com/           8\n",
       "11   https://mail.google.com/mail/u/1/#inbox/FMfcgx...           7\n",
       "26              https://www.kaggle.com/sheikirfanbasha           6\n",
       "293  https://accounts.google.com/signin/oauth?clien...           6\n",
       "514          https://www.incometaxindiaefiling.gov.in/           6"
      ]
     },
     "execution_count": 14,
     "metadata": {},
     "output_type": "execute_result"
    }
   ],
   "source": [
    "# Top 20 most visited URLs\n",
    "df.sort_values('visitCount', ascending=False)[['url', 'visitCount']].head(20)"
   ]
  },
  {
   "cell_type": "code",
   "execution_count": 16,
   "metadata": {},
   "outputs": [
    {
     "data": {
      "text/html": [
       "<div>\n",
       "<style scoped>\n",
       "    .dataframe tbody tr th:only-of-type {\n",
       "        vertical-align: middle;\n",
       "    }\n",
       "\n",
       "    .dataframe tbody tr th {\n",
       "        vertical-align: top;\n",
       "    }\n",
       "\n",
       "    .dataframe thead th {\n",
       "        text-align: right;\n",
       "    }\n",
       "</style>\n",
       "<table border=\"1\" class=\"dataframe\">\n",
       "  <thead>\n",
       "    <tr style=\"text-align: right;\">\n",
       "      <th></th>\n",
       "      <th>datetime</th>\n",
       "      <th>visitCount</th>\n",
       "    </tr>\n",
       "  </thead>\n",
       "  <tbody>\n",
       "    <tr>\n",
       "      <th>234</th>\n",
       "      <td>2018-09-18 15:03:03</td>\n",
       "      <td>107</td>\n",
       "    </tr>\n",
       "    <tr>\n",
       "      <th>61</th>\n",
       "      <td>2018-09-19 10:52:15</td>\n",
       "      <td>106</td>\n",
       "    </tr>\n",
       "    <tr>\n",
       "      <th>516</th>\n",
       "      <td>2018-09-02 20:57:49</td>\n",
       "      <td>58</td>\n",
       "    </tr>\n",
       "    <tr>\n",
       "      <th>10</th>\n",
       "      <td>2018-09-19 11:44:21</td>\n",
       "      <td>31</td>\n",
       "    </tr>\n",
       "    <tr>\n",
       "      <th>513</th>\n",
       "      <td>2018-09-06 16:25:29</td>\n",
       "      <td>31</td>\n",
       "    </tr>\n",
       "    <tr>\n",
       "      <th>510</th>\n",
       "      <td>2018-09-16 19:04:34</td>\n",
       "      <td>20</td>\n",
       "    </tr>\n",
       "    <tr>\n",
       "      <th>517</th>\n",
       "      <td>2018-09-02 20:55:29</td>\n",
       "      <td>19</td>\n",
       "    </tr>\n",
       "    <tr>\n",
       "      <th>521</th>\n",
       "      <td>2018-08-18 06:44:03</td>\n",
       "      <td>17</td>\n",
       "    </tr>\n",
       "    <tr>\n",
       "      <th>270</th>\n",
       "      <td>2018-09-18 12:54:58</td>\n",
       "      <td>17</td>\n",
       "    </tr>\n",
       "    <tr>\n",
       "      <th>374</th>\n",
       "      <td>2018-09-18 10:24:18</td>\n",
       "      <td>15</td>\n",
       "    </tr>\n",
       "    <tr>\n",
       "      <th>349</th>\n",
       "      <td>2018-09-18 10:53:26</td>\n",
       "      <td>15</td>\n",
       "    </tr>\n",
       "    <tr>\n",
       "      <th>525</th>\n",
       "      <td>2018-07-31 16:52:05</td>\n",
       "      <td>13</td>\n",
       "    </tr>\n",
       "    <tr>\n",
       "      <th>216</th>\n",
       "      <td>2018-09-18 15:35:57</td>\n",
       "      <td>11</td>\n",
       "    </tr>\n",
       "    <tr>\n",
       "      <th>351</th>\n",
       "      <td>2018-09-18 10:53:20</td>\n",
       "      <td>10</td>\n",
       "    </tr>\n",
       "    <tr>\n",
       "      <th>512</th>\n",
       "      <td>2018-09-08 20:50:58</td>\n",
       "      <td>10</td>\n",
       "    </tr>\n",
       "    <tr>\n",
       "      <th>509</th>\n",
       "      <td>2018-09-16 23:46:31</td>\n",
       "      <td>8</td>\n",
       "    </tr>\n",
       "    <tr>\n",
       "      <th>11</th>\n",
       "      <td>2018-09-19 11:44:19</td>\n",
       "      <td>7</td>\n",
       "    </tr>\n",
       "    <tr>\n",
       "      <th>26</th>\n",
       "      <td>2018-09-19 11:25:37</td>\n",
       "      <td>6</td>\n",
       "    </tr>\n",
       "    <tr>\n",
       "      <th>293</th>\n",
       "      <td>2018-09-18 12:29:32</td>\n",
       "      <td>6</td>\n",
       "    </tr>\n",
       "    <tr>\n",
       "      <th>514</th>\n",
       "      <td>2018-09-06 09:15:01</td>\n",
       "      <td>6</td>\n",
       "    </tr>\n",
       "  </tbody>\n",
       "</table>\n",
       "</div>"
      ],
      "text/plain": [
       "               datetime  visitCount\n",
       "234 2018-09-18 15:03:03         107\n",
       "61  2018-09-19 10:52:15         106\n",
       "516 2018-09-02 20:57:49          58\n",
       "10  2018-09-19 11:44:21          31\n",
       "513 2018-09-06 16:25:29          31\n",
       "510 2018-09-16 19:04:34          20\n",
       "517 2018-09-02 20:55:29          19\n",
       "521 2018-08-18 06:44:03          17\n",
       "270 2018-09-18 12:54:58          17\n",
       "374 2018-09-18 10:24:18          15\n",
       "349 2018-09-18 10:53:26          15\n",
       "525 2018-07-31 16:52:05          13\n",
       "216 2018-09-18 15:35:57          11\n",
       "351 2018-09-18 10:53:20          10\n",
       "512 2018-09-08 20:50:58          10\n",
       "509 2018-09-16 23:46:31           8\n",
       "11  2018-09-19 11:44:19           7\n",
       "26  2018-09-19 11:25:37           6\n",
       "293 2018-09-18 12:29:32           6\n",
       "514 2018-09-06 09:15:01           6"
      ]
     },
     "execution_count": 16,
     "metadata": {},
     "output_type": "execute_result"
    }
   ],
   "source": [
    "# Top 20 most Busiest days\n",
    "df.sort_values('visitCount', ascending=False)[['datetime', 'visitCount']].head(20)"
   ]
  }
 ],
 "metadata": {
  "kernelspec": {
   "display_name": "Python 3",
   "language": "python",
   "name": "python3"
  },
  "language_info": {
   "codemirror_mode": {
    "name": "ipython",
    "version": 3
   },
   "file_extension": ".py",
   "mimetype": "text/x-python",
   "name": "python",
   "nbconvert_exporter": "python",
   "pygments_lexer": "ipython3",
   "version": "3.6.5"
  }
 },
 "nbformat": 4,
 "nbformat_minor": 2
}

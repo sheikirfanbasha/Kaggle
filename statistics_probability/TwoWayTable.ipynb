{
 "cells": [
  {
   "cell_type": "markdown",
   "metadata": {},
   "source": [
    "## Fire-Water-Sponge Game\n",
    "\n",
    "This is a two player game, where both players make their choices at the same time. If both make the same choice then it is a tie. Otherwise, the winner will be chosen as per the below rule:\n",
    "\n",
    "- Fire wins on sponge by burning it\n",
    "- Sponge wins on water by soking it\n",
    "- Water wins on fire by putting it out\n",
    "\n",
    "Now lets explore the probablities by drawing out the entire sample space of the two players"
   ]
  },
  {
   "cell_type": "markdown",
   "metadata": {},
   "source": [
    "Lets plot a two-way table between their choices to explore the entire sample space"
   ]
  },
  {
   "cell_type": "code",
   "execution_count": 2,
   "metadata": {},
   "outputs": [],
   "source": [
    "import numpy as np\n",
    "choices = np.array(['fire', 'sponge', 'water'])"
   ]
  },
  {
   "cell_type": "markdown",
   "metadata": {},
   "source": [
    "|        |            | **Player1**  | |\n",
    "| :-------------: |:-------------:| :-----:|\n",
    "|        **Player2**  |      *fire*      |  *sponge* | *water* |\n",
    "|     *fire*  |      Tie      |  2wins | 1wins |\n",
    "|     *sponge*  |      1wins      |  Tie | 2wins |\n",
    "|     *water*  |      2wins      |  1wins | Tie |"
   ]
  }
 ],
 "metadata": {
  "kernelspec": {
   "display_name": "Python (myenv3.6)",
   "language": "python",
   "name": "py3.6"
  },
  "language_info": {
   "codemirror_mode": {
    "name": "ipython",
    "version": 3
   },
   "file_extension": ".py",
   "mimetype": "text/x-python",
   "name": "python",
   "nbconvert_exporter": "python",
   "pygments_lexer": "ipython3",
   "version": "3.6.5"
  }
 },
 "nbformat": 4,
 "nbformat_minor": 2
}

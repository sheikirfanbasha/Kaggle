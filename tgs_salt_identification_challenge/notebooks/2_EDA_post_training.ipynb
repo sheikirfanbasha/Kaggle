{
 "cells": [
  {
   "cell_type": "markdown",
   "metadata": {},
   "source": [
    "Load the model, do the prediction on validation dataset, compare the original masks and infer what kind of images are failing"
   ]
  },
  {
   "cell_type": "code",
   "execution_count": 39,
   "metadata": {
    "collapsed": true
   },
   "outputs": [],
   "source": [
    "# Import the required packages\n",
    "from keras.models import load_model\n",
    "from utils import mean_iou\n",
    "import os\n",
    "from tqdm import tqdm_notebook, tnrange\n",
    "from keras.preprocessing.image import img_to_array, load_img\n",
    "from matplotlib import pyplot as plt\n",
    "from skimage.transform import resize\n",
    "import numpy as np\n",
    "import random"
   ]
  },
  {
   "cell_type": "code",
   "execution_count": 2,
   "metadata": {
    "collapsed": true
   },
   "outputs": [],
   "source": [
    "# Load model\n",
    "model = load_model('model-tgs-salt-1.h5', custom_objects = {'mean_iou': mean_iou})"
   ]
  },
  {
   "cell_type": "code",
   "execution_count": 4,
   "metadata": {
    "collapsed": true
   },
   "outputs": [],
   "source": [
    "# Set some parameters\n",
    "im_width = 128\n",
    "im_height = 128\n",
    "im_chan = 1\n",
    "path_train = '/datasets/kaggle/competitions/tgs-salt-identification-challenge/train/'\n",
    "path_test = '/datasets/kaggle/competitions/tgs-salt-identification-challenge/test/'"
   ]
  },
  {
   "cell_type": "code",
   "execution_count": 11,
   "metadata": {
    "collapsed": true
   },
   "outputs": [],
   "source": [
    "# Get train ids\n",
    "train_ids = next(os.walk(path_train + \"images\"))[2]"
   ]
  },
  {
   "cell_type": "code",
   "execution_count": 25,
   "metadata": {
    "collapsed": false
   },
   "outputs": [
    {
     "name": "stdout",
     "output_type": "stream",
     "text": [
      "(4000, 128, 128, 1)\n"
     ]
    }
   ],
   "source": [
    "X_train = np.zeros((len(train_ids), im_width, im_height, im_chan), dtype=np.uint8)\n",
    "print(X_train.shape)"
   ]
  },
  {
   "cell_type": "code",
   "execution_count": 28,
   "metadata": {
    "collapsed": false
   },
   "outputs": [
    {
     "data": {
      "application/vnd.jupyter.widget-view+json": {
       "model_id": "489a94733efb44d3b6d4fefbd9630aea",
       "version_major": 2,
       "version_minor": 0
      },
      "text/plain": [
       "HBox(children=(IntProgress(value=0, max=4000), HTML(value='')))"
      ]
     },
     "metadata": {},
     "output_type": "display_data"
    },
    {
     "name": "stdout",
     "output_type": "stream",
     "text": [
      "\n"
     ]
    }
   ],
   "source": [
    "# Get and resize the train images\n",
    "sizes_train = []\n",
    "for i, _id in tqdm_notebook(enumerate(train_ids), total=len(train_ids)):\n",
    "    img = load_img(path_train + 'images/{}'.format(_id))\n",
    "    t = img_to_array(img)[:,:,1]\n",
    "    sizes_train.append([t.shape[0], t.shape[1]])\n",
    "    t = resize(t, (128, 128, 1),mode='constant', preserve_range=True)\n",
    "    X_train[i] = t"
   ]
  },
  {
   "cell_type": "code",
   "execution_count": 27,
   "metadata": {
    "collapsed": false
   },
   "outputs": [
    {
     "name": "stdout",
     "output_type": "stream",
     "text": [
      "4000/4000 [==============================] - 29s 7ms/step\n"
     ]
    }
   ],
   "source": [
    "predicts_train = model.predict(X_train, verbose=1)"
   ]
  },
  {
   "cell_type": "code",
   "execution_count": 55,
   "metadata": {
    "collapsed": true
   },
   "outputs": [],
   "source": [
    "def upsample(predicts_train):\n",
    "    preds_train_upsampled = []\n",
    "    for i in tnrange(len(predicts_train)):\n",
    "        preds_train_upsampled.append(resize(np.squeeze(predicts_train[i]), \n",
    "                                           (sizes_train[i][0], sizes_train[i][1]), \n",
    "                                           mode='constant', preserve_range=True))\n",
    "    return preds_train_upsampled"
   ]
  },
  {
   "cell_type": "code",
   "execution_count": 56,
   "metadata": {
    "collapsed": false
   },
   "outputs": [
    {
     "data": {
      "application/vnd.jupyter.widget-view+json": {
       "model_id": "d247489ab8c44499b10906a7128d37dc",
       "version_major": 2,
       "version_minor": 0
      },
      "text/plain": [
       "HBox(children=(IntProgress(value=0, max=4000), HTML(value='')))"
      ]
     },
     "metadata": {},
     "output_type": "display_data"
    },
    {
     "name": "stdout",
     "output_type": "stream",
     "text": [
      "\n"
     ]
    }
   ],
   "source": [
    "# Create list of upsampled train masks\n",
    "predicts_train_upsampled = upsample(predicts_train)"
   ]
  },
  {
   "cell_type": "code",
   "execution_count": 36,
   "metadata": {
    "collapsed": false
   },
   "outputs": [
    {
     "data": {
      "image/png": "[encoded data removed]",
      "text/plain": [
       "<Figure size 432x288 with 2 Axes>"
      ]
     },
     "metadata": {},
     "output_type": "display_data"
    }
   ],
   "source": [
    "m1 = load_img(path_train + 'masks/{}'.format(train_ids[1]))\n",
    "plt.subplot(1,2,1)\n",
    "plt.imshow(m1)\n",
    "plt.subplot(1, 2, 2)\n",
    "plt.imshow(np.dstack((preds_train_upsampled[1],preds_train_upsampled[1], preds_train_upsampled[1])))\n",
    "plt.show()"
   ]
  },
  {
   "cell_type": "code",
   "execution_count": 47,
   "metadata": {
    "collapsed": true
   },
   "outputs": [],
   "source": [
    "def get_random_idxs(num_of_imgs, pred):\n",
    "    random_idxs = []\n",
    "    for i in range(num_of_imgs):\n",
    "        random_idxs.append(random.randint(0, len(pred)))\n",
    "    return random_idxs"
   ]
  },
  {
   "cell_type": "code",
   "execution_count": 48,
   "metadata": {
    "collapsed": true
   },
   "outputs": [],
   "source": [
    "def plot_imgs_for_comparison(random_idxs, train_ids, pred):\n",
    "    fig_num = 1;\n",
    "    num_of_imgs = len(random_idxs)\n",
    "    for _id in random_idxs:\n",
    "        print(train_ids[_id])\n",
    "        m1 = load_img(path_train + 'masks/{}'.format(train_ids[_id]))\n",
    "        plt.subplot(num_of_imgs,2,fig_num)\n",
    "        fig_num = fig_num + 1;\n",
    "        plt.imshow(m1)\n",
    "        plt.subplot(num_of_imgs, 2, fig_num)\n",
    "        fig_num = fig_num + 1;\n",
    "        plt.imshow(np.dstack((pred[_id],pred[_id], pred[_id])))\n",
    "        plt.show()"
   ]
  },
  {
   "cell_type": "code",
   "execution_count": 77,
   "metadata": {
    "collapsed": true
   },
   "outputs": [],
   "source": [
    "random_idxs = get_random_idxs(4, preds_train_upsampled)"
   ]
  },
  {
   "cell_type": "code",
   "execution_count": 78,
   "metadata": {
    "collapsed": false
   },
   "outputs": [
    {
     "name": "stdout",
     "output_type": "stream",
     "text": [
      "6cf6889e33.png\n"
     ]
    },
    {
     "data": {
      "image/png": "[encoded data removed]",
      "text/plain": [
       "<Figure size 432x288 with 2 Axes>"
      ]
     },
     "metadata": {},
     "output_type": "display_data"
    },
    {
     "name": "stdout",
     "output_type": "stream",
     "text": [
      "6d9b6a2c4b.png\n"
     ]
    },
    {
     "data": {
      "image/png": "[encoded data removed]",
      "text/plain": [
       "<Figure size 432x288 with 2 Axes>"
      ]
     },
     "metadata": {},
     "output_type": "display_data"
    },
    {
     "name": "stdout",
     "output_type": "stream",
     "text": [
      "5423d6049c.png\n"
     ]
    },
    {
     "data": {
      "image/png": "[encoded data removed]",
      "text/plain": [
       "<Figure size 432x288 with 2 Axes>"
      ]
     },
     "metadata": {},
     "output_type": "display_data"
    },
    {
     "name": "stdout",
     "output_type": "stream",
     "text": [
      "cbe33c57c4.png\n"
     ]
    },
    {
     "data": {
      "image/png": "[encoded data removed]",
      "text/plain": [
       "<Figure size 432x288 with 2 Axes>"
      ]
     },
     "metadata": {},
     "output_type": "display_data"
    }
   ],
   "source": [
    "# plot the prediction masks and ground truth masks\n",
    "plot_imgs_for_comparison(random_idxs, train_ids, preds_train_upsampled)"
   ]
  },
  {
   "cell_type": "code",
   "execution_count": null,
   "metadata": {
    "collapsed": true
   },
   "outputs": [],
   "source": [
    "predicts_train_t = predicts_train.copy()\n",
    "from scipy import ndimage\n",
    "# predicts_train_t = ndimage.generic_filter(predicts_train_t, np.nanmean, size=3, mode='constant', cval=np.NaN)\n",
    "predicts_train_t[predicts_train_t > 0] = 255\n",
    "# preds_train_t = (predicts_train > 0.5).astype(np.uint8)\n",
    "preds_train_upsampled_t = upsample(preds_train_t)"
   ]
  },
  {
   "cell_type": "code",
   "execution_count": 80,
   "metadata": {
    "collapsed": false
   },
   "outputs": [
    {
     "name": "stdout",
     "output_type": "stream",
     "text": [
      "6cf6889e33.png\n"
     ]
    },
    {
     "data": {
      "image/png": "[encoded data removed]",
      "text/plain": [
       "<Figure size 432x288 with 2 Axes>"
      ]
     },
     "metadata": {},
     "output_type": "display_data"
    },
    {
     "name": "stdout",
     "output_type": "stream",
     "text": [
      "6d9b6a2c4b.png\n"
     ]
    },
    {
     "data": {
      "image/png": "[encoded data removed]",
      "text/plain": [
       "<Figure size 432x288 with 2 Axes>"
      ]
     },
     "metadata": {},
     "output_type": "display_data"
    },
    {
     "name": "stdout",
     "output_type": "stream",
     "text": [
      "5423d6049c.png\n"
     ]
    },
    {
     "data": {
      "image/png": "[encoded data removed]",
      "text/plain": [
       "<Figure size 432x288 with 2 Axes>"
      ]
     },
     "metadata": {},
     "output_type": "display_data"
    },
    {
     "name": "stdout",
     "output_type": "stream",
     "text": [
      "cbe33c57c4.png\n"
     ]
    },
    {
     "data": {
      "image/png": "[encoded data removed]",
      "text/plain": [
       "<Figure size 432x288 with 2 Axes>"
      ]
     },
     "metadata": {},
     "output_type": "display_data"
    }
   ],
   "source": [
    "# plot the thresholded prediction masks and ground truth masks\n",
    "plot_imgs_for_comparison(random_idxs, train_ids, preds_train_upsampled_t)"
   ]
  }
 ],
 "metadata": {
  "kernelspec": {
   "display_name": "qPy3",
   "language": "python",
   "name": "qpy3"
  },
  "language_info": {
   "codemirror_mode": {
    "name": "ipython",
    "version": 3
   },
   "file_extension": ".py",
   "mimetype": "text/x-python",
   "name": "python",
   "nbconvert_exporter": "python",
   "pygments_lexer": "ipython3",
   "version": "3.6.5"
  }
 },
 "nbformat": 4,
 "nbformat_minor": 2
}
